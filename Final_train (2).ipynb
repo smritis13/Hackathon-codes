{
  "cells": [
    {
      "cell_type": "code",
      "source": [
        "from google.colab import drive\n",
        "drive.mount('/content/drive')"
      ],
      "metadata": {
        "colab": {
          "base_uri": "https://localhost:8080/"
        },
        "id": "VRTPjKq7Z07s",
        "outputId": "c96c221a-b6f3-43c7-b32b-22099908adc4"
      },
      "execution_count": null,
      "outputs": [
        {
          "output_type": "stream",
          "name": "stdout",
          "text": [
            "Mounted at /content/drive\n"
          ]
        }
      ]
    },
    {
      "cell_type": "code",
      "execution_count": null,
      "metadata": {
        "colab": {
          "base_uri": "https://localhost:8080/"
        },
        "id": "Ar4Yhh-p7o1j",
        "outputId": "a1cf609d-862d-41bf-dd3b-caba75e446a6"
      },
      "outputs": [
        {
          "output_type": "stream",
          "name": "stdout",
          "text": [
            "Epoch 0/19\n",
            "--------------------\n",
            "train Loss: 1.1655 Acc: 0.3816\n",
            "val Loss: 1.0130 Acc: 0.5000\n",
            "Epoch 1/19\n",
            "--------------------\n",
            "train Loss: 0.9066 Acc: 0.6053\n",
            "val Loss: 0.2828 Acc: 1.0000\n",
            "Epoch 2/19\n",
            "--------------------\n",
            "train Loss: 0.7939 Acc: 0.6974\n",
            "val Loss: 0.1140 Acc: 1.0000\n",
            "Epoch 3/19\n",
            "--------------------\n",
            "train Loss: 0.4813 Acc: 0.8158\n",
            "val Loss: 0.0292 Acc: 1.0000\n",
            "Epoch 4/19\n",
            "--------------------\n",
            "train Loss: 0.4836 Acc: 0.7632\n",
            "val Loss: 0.0887 Acc: 1.0000\n",
            "Epoch 5/19\n",
            "--------------------\n",
            "train Loss: 0.3088 Acc: 0.9211\n",
            "val Loss: 0.0342 Acc: 1.0000\n",
            "Epoch 6/19\n",
            "--------------------\n",
            "train Loss: 0.3967 Acc: 0.8553\n",
            "val Loss: 0.1247 Acc: 1.0000\n",
            "Epoch 7/19\n",
            "--------------------\n",
            "train Loss: 0.3048 Acc: 0.8553\n",
            "val Loss: 0.4362 Acc: 0.8333\n",
            "Epoch 8/19\n",
            "--------------------\n",
            "train Loss: 0.4431 Acc: 0.8289\n",
            "val Loss: 0.5159 Acc: 0.8333\n",
            "Epoch 9/19\n",
            "--------------------\n",
            "train Loss: 0.5767 Acc: 0.7500\n",
            "val Loss: 0.2456 Acc: 0.8333\n",
            "Epoch 10/19\n",
            "--------------------\n",
            "train Loss: 0.3449 Acc: 0.8947\n",
            "val Loss: 0.0433 Acc: 1.0000\n",
            "Epoch 11/19\n",
            "--------------------\n",
            "train Loss: 0.2719 Acc: 0.9342\n",
            "val Loss: 0.0475 Acc: 1.0000\n",
            "Epoch 12/19\n",
            "--------------------\n",
            "train Loss: 0.4718 Acc: 0.7763\n",
            "val Loss: 0.0853 Acc: 1.0000\n",
            "Epoch 13/19\n",
            "--------------------\n",
            "train Loss: 0.4476 Acc: 0.8289\n",
            "val Loss: 0.0556 Acc: 1.0000\n",
            "Epoch 14/19\n",
            "--------------------\n",
            "train Loss: 0.6191 Acc: 0.7632\n",
            "val Loss: 0.0722 Acc: 1.0000\n",
            "Epoch 15/19\n",
            "--------------------\n",
            "train Loss: 0.3905 Acc: 0.8553\n",
            "val Loss: 0.0102 Acc: 1.0000\n",
            "Epoch 16/19\n",
            "--------------------\n",
            "train Loss: 0.4271 Acc: 0.8553\n",
            "val Loss: 0.0265 Acc: 1.0000\n",
            "Epoch 17/19\n",
            "--------------------\n",
            "train Loss: 0.2221 Acc: 0.9474\n",
            "val Loss: 0.0600 Acc: 1.0000\n",
            "Epoch 18/19\n",
            "--------------------\n",
            "train Loss: 0.3716 Acc: 0.8816\n",
            "val Loss: 0.3940 Acc: 0.8333\n",
            "Epoch 19/19\n",
            "--------------------\n",
            "train Loss: 0.6337 Acc: 0.7895\n",
            "val Loss: 0.1335 Acc: 1.0000\n"
          ]
        }
      ],
      "source": [
        "import torch\n",
        "import torch.nn as nn\n",
        "import torch.optim as optim\n",
        "from torch.utils.data import DataLoader\n",
        "from torchvision import datasets, models, transforms\n",
        "\n",
        "# Define the data directory and the necessary transformations\n",
        "data_dir = '/content/drive/MyDrive/dataset'  # Update with the path to your data directory\n",
        "\n",
        "# Define the transforms for the training and validation sets\n",
        "data_transforms = {\n",
        "    'train': transforms.Compose([\n",
        "        transforms.RandomResizedCrop(224),\n",
        "        transforms.RandomHorizontalFlip(),\n",
        "        transforms.ToTensor(),\n",
        "        transforms.Normalize([0.485, 0.456, 0.406], [0.229, 0.224, 0.225])\n",
        "    ]),\n",
        "    'val': transforms.Compose([\n",
        "        transforms.Resize(256),\n",
        "        transforms.CenterCrop(224),\n",
        "        transforms.ToTensor(),\n",
        "        transforms.Normalize([0.485, 0.456, 0.406], [0.229, 0.224, 0.225])\n",
        "    ]),\n",
        "}\n",
        "\n",
        "# Load the datasets with ImageFolder\n",
        "image_datasets = {x: datasets.ImageFolder(f'{data_dir}/{x}', data_transforms[x]) for x in ['train', 'val']}\n",
        "\n",
        "# Define the dataloaders\n",
        "dataloaders = {x: DataLoader(image_datasets[x], batch_size=4, shuffle=True, num_workers=4) for x in ['train', 'val']}\n",
        "\n",
        "# Define the device for training\n",
        "device = torch.device(\"cuda\" if torch.cuda.is_available() else \"cpu\")\n",
        "\n",
        "# Define the model\n",
        "model = models.resnet18(pretrained=True) # You can choose a different model if you prefer\n",
        "\n",
        "# Modify the classifier according to your requirements\n",
        "num_ftrs = model.fc.in_features\n",
        "model.fc = nn.Linear(num_ftrs, 3)  # Assuming 3 classes in your case\n",
        "\n",
        "model = model.to(device)\n",
        "\n",
        "criterion = nn.CrossEntropyLoss()\n",
        "optimizer = optim.SGD(model.parameters(), lr=0.001, momentum=0.9)\n",
        "\n",
        "\n",
        "num_epochs = 20\n",
        "for epoch in range(num_epochs):\n",
        "    print(f'Epoch {epoch}/{num_epochs-1}')\n",
        "    print('-' * 20)\n",
        "\n",
        "    for phase in ['train', 'val']:\n",
        "        if phase == 'train':\n",
        "            model.train()\n",
        "        else:\n",
        "            model.eval()\n",
        "\n",
        "        running_loss = 0.0\n",
        "        running_corrects = 0\n",
        "\n",
        "        for inputs, labels in dataloaders[phase]:\n",
        "            inputs = inputs.to(device)\n",
        "            labels = labels.to(device)\n",
        "\n",
        "            optimizer.zero_grad()\n",
        "\n",
        "            with torch.set_grad_enabled(phase == 'train'):\n",
        "                outputs = model(inputs)\n",
        "                _, preds = torch.max(outputs, 1)\n",
        "                loss = criterion(outputs, labels)\n",
        "\n",
        "                if phase == 'train':\n",
        "                    loss.backward()\n",
        "                    optimizer.step()\n",
        "\n",
        "            running_loss += loss.item() * inputs.size(0)\n",
        "            running_corrects += torch.sum(preds == labels.data)\n",
        "\n",
        "        epoch_loss = running_loss / len(image_datasets[phase])\n",
        "        epoch_acc = running_corrects.double() / len(image_datasets[phase])\n",
        "\n",
        "        print(f'{phase} Loss: {epoch_loss:.4f} Acc: {epoch_acc:.4f}')\n"
      ]
    },
    {
      "cell_type": "code",
      "execution_count": null,
      "metadata": {
        "id": "qSTTvbnd7o1l"
      },
      "outputs": [],
      "source": [
        "torch.save(model.state_dict(), '/content/drive/MyDrive/pred_img_type.path')\n"
      ]
    }
  ],
  "metadata": {
    "language_info": {
      "name": "python"
    },
    "colab": {
      "provenance": []
    },
    "kernelspec": {
      "name": "python3",
      "display_name": "Python 3"
    }
  },
  "nbformat": 4,
  "nbformat_minor": 0
}