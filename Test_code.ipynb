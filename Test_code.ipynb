{
  "nbformat": 4,
  "nbformat_minor": 0,
  "metadata": {
    "colab": {
      "provenance": []
    },
    "kernelspec": {
      "name": "python3",
      "display_name": "Python 3"
    },
    "language_info": {
      "name": "python"
    }
  },
  "cells": [
    {
      "cell_type": "code",
      "source": [
        "from google.colab import drive\n",
        "drive.mount('/content/drive')"
      ],
      "metadata": {
        "colab": {
          "base_uri": "https://localhost:8080/"
        },
        "id": "Ov2I36mW42m2",
        "outputId": "e7e0493d-6aee-4d0f-a7de-6708c3421dd7"
      },
      "execution_count": null,
      "outputs": [
        {
          "output_type": "stream",
          "name": "stdout",
          "text": [
            "Mounted at /content/drive\n"
          ]
        }
      ]
    },
    {
      "cell_type": "code",
      "execution_count": null,
      "metadata": {
        "id": "DxBd2JSv3W3N"
      },
      "outputs": [],
      "source": [
        "import torch\n",
        "import torch.nn as nn\n",
        "from torchvision import models, transforms\n",
        "from PIL import Image\n",
        "\n",
        "def classify_event(image_path):\n",
        "    model = models.resnet18(pretrained=True)\n",
        "    num_ftrs = model.fc.in_features\n",
        "    model.fc = nn.Linear(num_ftrs, 3)\n",
        "\n",
        "    model.load_state_dict(torch.load('/content/drive/MyDrive/dataset/pred_img_type.path'))\n",
        "    model.eval()\n",
        "\n",
        "    transform = transforms.Compose([\n",
        "        transforms.Resize(256),\n",
        "        transforms.CenterCrop(224),\n",
        "        transforms.ToTensor(),\n",
        "        transforms.Normalize([0.485, 0.456, 0.406], [0.229, 0.224, 0.225])\n",
        "    ])\n",
        "\n",
        "    image = Image.open(image_path)\n",
        "    image = transform(image).unsqueeze(0)\n",
        "\n",
        "    with torch.no_grad():\n",
        "        outputs = model(image)\n",
        "        probabilities = nn.functional.softmax(outputs, dim=1)\n",
        "        _, predicted = torch.max(outputs, 1)\n",
        "\n",
        "    event_list = [\"BARGES\", \"BOATS\", \"DINGHY\"]\n",
        "    event = event_list[predicted.item()]\n",
        "\n",
        "    # Display the probabilities for each class\n",
        "    for i, prob in enumerate(probabilities[0]):\n",
        "        print(f\"{event_list[i]}: {prob.item() * 100:.2f}%\")\n",
        "\n",
        "    return event\n"
      ]
    },
    {
      "cell_type": "code",
      "source": [
        "image_path = '/content/unknown.jpg'  # Replace with the path to your image\n",
        "event = classify_event(image_path)\n",
        "print(f\"Predicted Event: {event}\")\n"
      ],
      "metadata": {
        "colab": {
          "base_uri": "https://localhost:8080/"
        },
        "id": "JP6BtHYR4c5n",
        "outputId": "08f125f8-be04-48ca-e528-8c492454cdfb"
      },
      "execution_count": null,
      "outputs": [
        {
          "output_type": "stream",
          "name": "stdout",
          "text": [
            "BARGES: 99.99%\n",
            "BOATS: 0.00%\n",
            "DINGHY: 0.01%\n",
            "Predicted Event: BARGES\n"
          ]
        }
      ]
    }
  ]
}